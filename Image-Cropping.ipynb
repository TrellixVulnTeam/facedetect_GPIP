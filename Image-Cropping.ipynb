{
 "cells": [
  {
   "cell_type": "code",
   "execution_count": 1,
   "metadata": {},
   "outputs": [],
   "source": [
    "import numpy as np\n",
    "import cv2\n",
    "import matplotlib.pyplot as plt\n",
    "%matplotlib inline"
   ]
  },
  {
   "cell_type": "code",
   "execution_count": 3,
   "metadata": {},
   "outputs": [
    {
     "name": "stdout",
     "output_type": "stream",
     "text": [
      "Image-Cropping.ipynb         \u001b[34minclude\u001b[m\u001b[m/\r\n",
      "Object-detection-face.ipynb  \u001b[34mlib\u001b[m\u001b[m/\r\n",
      "Object-face-detection.ipynb  male_01.png\r\n",
      "Untitled.ipynb               pyvenv.cfg\r\n",
      "\u001b[34mbin\u001b[m\u001b[m/                         requirements.txt\r\n",
      "\u001b[34mdata\u001b[m\u001b[m/                        resize.ipynb\r\n",
      "\u001b[34mfacedetectvm\u001b[m\u001b[m/                understanding-pixels.ipynb\r\n",
      "how-image-works.ipynb        working-with-video.ipynb\r\n"
     ]
    }
   ],
   "source": [
    "ls"
   ]
  },
  {
   "cell_type": "code",
   "execution_count": null,
   "metadata": {},
   "outputs": [],
   "source": [
    "!ls data\\"
   ]
  }
 ],
 "metadata": {
  "kernelspec": {
   "display_name": "Python 3",
   "language": "python",
   "name": "python3"
  },
  "language_info": {
   "codemirror_mode": {
    "name": "ipython",
    "version": 3
   },
   "file_extension": ".py",
   "mimetype": "text/x-python",
   "name": "python",
   "nbconvert_exporter": "python",
   "pygments_lexer": "ipython3",
   "version": "3.6.8"
  }
 },
 "nbformat": 4,
 "nbformat_minor": 4
}
